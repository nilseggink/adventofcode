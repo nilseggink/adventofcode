{
 "cells": [
  {
   "cell_type": "code",
   "execution_count": 4,
   "metadata": {},
   "outputs": [],
   "source": [
    "# First part of input contains the rules\n",
    "# Second part of input contains the updates to be checked\n",
    "import numpy as np"
   ]
  },
  {
   "cell_type": "code",
   "execution_count": null,
   "metadata": {},
   "outputs": [],
   "source": [
    "def findRelevantRules(rules, upgrade):\n",
    "    relevantRules = []\n",
    "    for ruleIndex in range(0, len(rules)):\n",
    "        if any(np.isin(upgrade, rules[ruleIndex, 0])) and any(np.isin(upgrade, rules[ruleIndex, 1])):\n",
    "            relevantRules.append(ruleIndex)\n",
    "    return rules[relevantRules, :]\n",
    "\n",
    "def findBrokenRules(rules, upgrade):\n",
    "    brokenRules = []\n",
    "    for rule in rules:\n",
    "        leftRuleIndex = np.where(upgrade == rule[0])[0][0]\n",
    "        rightRuleIndex = np.where(upgrade == rule[1])[0][0]\n",
    "        if leftRuleIndex > rightRuleIndex:\n",
    "            brokenRules.append(rule)\n",
    "    return brokenRules\n",
    "\n",
    "def sortUpgrade(rules, upgrade):\n",
    "    for rule in rules\n"
   ]
  },
  {
   "cell_type": "code",
   "execution_count": 6,
   "metadata": {},
   "outputs": [],
   "source": [
    "\n",
    "# Read input & Convert rules to M by 2 matrix\n",
    "rules = np.genfromtxt(r\"input5_rules.txt\", delimiter=\"|\")\n",
    "\n",
    "# Read upgrades\n",
    "with open(r\"input5_upgrades.txt\", 'r') as file:\n",
    "    upgrades = [line for line in file.read().split()]\n",
    "\n",
    "upgradesList = [[int(num) for num in line.split(\",\")] for line in upgrades]\n"
   ]
  },
  {
   "cell_type": "code",
   "execution_count": null,
   "metadata": {},
   "outputs": [
    {
     "name": "stdout",
     "output_type": "stream",
     "text": [
      "6505\n"
     ]
    }
   ],
   "source": [
    "count = 0\n",
    "# Select relevant rules per upgrade\n",
    "for upgrade in upgradesList:\n",
    "    relevantRules = findRelevantRules(rules, upgrade)\n",
    "    # Check validity per upgrade\n",
    "    brokenRules = findBrokenRules(relevantRules, upgrade)\n",
    "    if len(brokenRules) > 0:\n",
    "        # Select middle number if valid and add to count\n",
    "        upgrade = sortUpgrade(relevantRules, upgrade)\n",
    "        count += upgrade[int(np.floor(len(upgrade)/2))]\n",
    "\n",
    "print(count)"
   ]
  },
  {
   "cell_type": "code",
   "execution_count": null,
   "metadata": {},
   "outputs": [],
   "source": []
  }
 ],
 "metadata": {
  "kernelspec": {
   "display_name": "Python 3",
   "language": "python",
   "name": "python3"
  },
  "language_info": {
   "codemirror_mode": {
    "name": "ipython",
    "version": 3
   },
   "file_extension": ".py",
   "mimetype": "text/x-python",
   "name": "python",
   "nbconvert_exporter": "python",
   "pygments_lexer": "ipython3",
   "version": "3.12.2"
  }
 },
 "nbformat": 4,
 "nbformat_minor": 2
}
