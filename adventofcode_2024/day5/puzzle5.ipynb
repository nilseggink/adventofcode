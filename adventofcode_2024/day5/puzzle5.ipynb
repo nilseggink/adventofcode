{
 "cells": [
  {
   "cell_type": "code",
   "execution_count": 1,
   "metadata": {},
   "outputs": [],
   "source": [
    "# First part of input contains the rules\n",
    "# Second part of input contains the updates to be checked\n",
    "import numpy as np"
   ]
  },
  {
   "cell_type": "code",
   "execution_count": 2,
   "metadata": {},
   "outputs": [],
   "source": [
    "def findRelevantRules(rules, upgrade):\n",
    "    relevantRules = []\n",
    "    for ruleIndex in range(0, len(rules)):\n",
    "        if any(np.isin(upgrade, rules[ruleIndex, 0])) and any(np.isin(upgrade, rules[ruleIndex, 1])):\n",
    "            relevantRules.append(ruleIndex)\n",
    "    return rules[relevantRules, :]\n",
    "\n",
    "def findBrokenRules(rules, upgrade):\n",
    "    brokenRules = []\n",
    "    for rule in rules:\n",
    "        leftRuleIndex = np.where(upgrade == rule[0])[0][0]\n",
    "        rightRuleIndex = np.where(upgrade == rule[1])[0][0]\n",
    "        if leftRuleIndex > rightRuleIndex:\n",
    "            brokenRules.append(rule)\n",
    "    return brokenRules\n",
    "\n",
    "def fixRules(rules, upgrade):\n",
    "    for rule in rules:\n",
    "        #print(rule)\n",
    "        leftRuleIndex = np.where(upgrade == rule[0])[0][0]\n",
    "        rightRuleIndex = np.where(upgrade == rule[1])[0][0]\n",
    "        #print(upgrade)\n",
    "        upgrade[leftRuleIndex] = rule[1]\n",
    "        upgrade[rightRuleIndex] = rule[0]\n",
    "        #print(upgrade)\n",
    "    return upgrade\n",
    "\n",
    "\n",
    "    \n"
   ]
  },
  {
   "cell_type": "code",
   "execution_count": 16,
   "metadata": {},
   "outputs": [],
   "source": [
    "\n",
    "# Read input & Convert rules to M by 2 matrix\n",
    "rules = np.genfromtxt(r\"input5_rules.txt\", delimiter=\"|\")\n",
    "\n",
    "# Read upgrades\n",
    "with open(r\"input5_upgrades.txt\", 'r') as file:\n",
    "    upgrades = [line for line in file.read().split()]\n",
    "\n",
    "upgradesList = [[int(num) for num in line.split(\",\")] for line in upgrades]\n"
   ]
  },
  {
   "cell_type": "code",
   "execution_count": 26,
   "metadata": {},
   "outputs": [],
   "source": [
    "def sortUpgrade(rules, upgrade):\n",
    "    # find first element\n",
    "    sortedUpgrade = []\n",
    "    while len(upgrade) > 0:\n",
    "        for element in upgrade:\n",
    "            if not any(np.isin(rules[:,1], element)):\n",
    "                sortedUpgrade.append(element)\n",
    "                #print(element)\n",
    "                break\n",
    "        upgrade.remove(element)\n",
    "        #print(upgrade)\n",
    "        rules = removeRulesStartingWith(rules, element)\n",
    "    return sortedUpgrade\n",
    "\n",
    "def removeRulesStartingWith(rules, element):\n",
    "    for ruleIndex in range(0, len(rules)):\n",
    "        print(len(rules))\n",
    "        print(rules[ruleIndex])\n",
    "        print(element)\n",
    "        if rules[ruleIndex][0] == element:\n",
    "            rules = np.delete(rules, ruleIndex)\n",
    "    return rules"
   ]
  },
  {
   "cell_type": "code",
   "execution_count": 27,
   "metadata": {},
   "outputs": [],
   "source": [
    "testUpgrade = upgradesList[28]\n"
   ]
  },
  {
   "cell_type": "code",
   "execution_count": 28,
   "metadata": {},
   "outputs": [
    {
     "name": "stdout",
     "output_type": "stream",
     "text": [
      "[array([96., 87.]), array([96., 74.]), array([58., 19.]), array([58., 64.]), array([73., 87.]), array([73., 74.]), array([73., 19.]), array([87., 19.]), array([87., 53.]), array([92., 74.]), array([92., 64.]), array([14., 19.]), array([14., 96.]), array([14., 87.]), array([14., 64.]), array([14., 53.]), array([14., 13.]), array([14., 74.]), array([96., 19.]), array([96., 64.]), array([96., 53.]), array([13., 19.]), array([13., 87.]), array([13., 53.]), array([58., 74.]), array([58., 53.]), array([73., 53.]), array([73., 64.])]\n",
      "28\n",
      "58.0\n"
     ]
    }
   ],
   "source": [
    "relevantRules = findRelevantRules(rules, testUpgrade)\n",
    "brokenRules = findBrokenRules(relevantRules, testUpgrade)\n",
    "print(brokenRules)\n",
    "print(len(brokenRules))\n",
    "\n",
    "print(brokenRules[3][0])"
   ]
  },
  {
   "cell_type": "code",
   "execution_count": 13,
   "metadata": {},
   "outputs": [
    {
     "name": "stdout",
     "output_type": "stream",
     "text": [
      "13\n",
      "[53, 19, 87, 64, 74, 96, 73, 58, 92]\n"
     ]
    },
    {
     "ename": "IndexError",
     "evalue": "invalid index to scalar variable.",
     "output_type": "error",
     "traceback": [
      "\u001b[1;31m---------------------------------------------------------------------------\u001b[0m",
      "\u001b[1;31mIndexError\u001b[0m                                Traceback (most recent call last)",
      "\u001b[1;32m<ipython-input-13-ffe76644b92a>\u001b[0m in \u001b[0;36m<module>\u001b[1;34m\u001b[0m\n\u001b[1;32m----> 1\u001b[1;33m \u001b[0msortedUpgrade\u001b[0m \u001b[1;33m=\u001b[0m \u001b[0msortUpgrade\u001b[0m\u001b[1;33m(\u001b[0m\u001b[0mrelevantRules\u001b[0m\u001b[1;33m,\u001b[0m \u001b[0mtestUpgrade\u001b[0m\u001b[1;33m)\u001b[0m\u001b[1;33m\u001b[0m\u001b[1;33m\u001b[0m\u001b[0m\n\u001b[0m",
      "\u001b[1;32m<ipython-input-10-41800e897261>\u001b[0m in \u001b[0;36msortUpgrade\u001b[1;34m(rules, upgrade)\u001b[0m\n\u001b[0;32m     10\u001b[0m         \u001b[0mupgrade\u001b[0m\u001b[1;33m.\u001b[0m\u001b[0mremove\u001b[0m\u001b[1;33m(\u001b[0m\u001b[0melement\u001b[0m\u001b[1;33m)\u001b[0m\u001b[1;33m\u001b[0m\u001b[1;33m\u001b[0m\u001b[0m\n\u001b[0;32m     11\u001b[0m         \u001b[0mprint\u001b[0m\u001b[1;33m(\u001b[0m\u001b[0mupgrade\u001b[0m\u001b[1;33m)\u001b[0m\u001b[1;33m\u001b[0m\u001b[1;33m\u001b[0m\u001b[0m\n\u001b[1;32m---> 12\u001b[1;33m         \u001b[0mrules\u001b[0m \u001b[1;33m=\u001b[0m \u001b[0mremoveRulesStartingWith\u001b[0m\u001b[1;33m(\u001b[0m\u001b[0mrules\u001b[0m\u001b[1;33m,\u001b[0m \u001b[0melement\u001b[0m\u001b[1;33m)\u001b[0m\u001b[1;33m\u001b[0m\u001b[1;33m\u001b[0m\u001b[0m\n\u001b[0m\u001b[0;32m     13\u001b[0m     \u001b[1;32mreturn\u001b[0m \u001b[0msortedUpgrade\u001b[0m\u001b[1;33m\u001b[0m\u001b[1;33m\u001b[0m\u001b[0m\n\u001b[0;32m     14\u001b[0m \u001b[1;33m\u001b[0m\u001b[0m\n",
      "\u001b[1;32m<ipython-input-10-41800e897261>\u001b[0m in \u001b[0;36mremoveRulesStartingWith\u001b[1;34m(rules, element)\u001b[0m\n\u001b[0;32m     15\u001b[0m \u001b[1;32mdef\u001b[0m \u001b[0mremoveRulesStartingWith\u001b[0m\u001b[1;33m(\u001b[0m\u001b[0mrules\u001b[0m\u001b[1;33m,\u001b[0m \u001b[0melement\u001b[0m\u001b[1;33m)\u001b[0m\u001b[1;33m:\u001b[0m\u001b[1;33m\u001b[0m\u001b[1;33m\u001b[0m\u001b[0m\n\u001b[0;32m     16\u001b[0m     \u001b[1;32mfor\u001b[0m \u001b[0mruleIndex\u001b[0m \u001b[1;32min\u001b[0m \u001b[0mrange\u001b[0m\u001b[1;33m(\u001b[0m\u001b[1;36m0\u001b[0m\u001b[1;33m,\u001b[0m \u001b[0mlen\u001b[0m\u001b[1;33m(\u001b[0m\u001b[0mrules\u001b[0m\u001b[1;33m)\u001b[0m\u001b[1;33m)\u001b[0m\u001b[1;33m:\u001b[0m\u001b[1;33m\u001b[0m\u001b[1;33m\u001b[0m\u001b[0m\n\u001b[1;32m---> 17\u001b[1;33m         \u001b[1;32mif\u001b[0m \u001b[0mrules\u001b[0m\u001b[1;33m[\u001b[0m\u001b[0mruleIndex\u001b[0m\u001b[1;33m]\u001b[0m\u001b[1;33m[\u001b[0m\u001b[1;36m0\u001b[0m\u001b[1;33m]\u001b[0m \u001b[1;33m==\u001b[0m \u001b[0melement\u001b[0m\u001b[1;33m:\u001b[0m\u001b[1;33m\u001b[0m\u001b[1;33m\u001b[0m\u001b[0m\n\u001b[0m\u001b[0;32m     18\u001b[0m             \u001b[0mrules\u001b[0m \u001b[1;33m=\u001b[0m \u001b[0mnp\u001b[0m\u001b[1;33m.\u001b[0m\u001b[0mdelete\u001b[0m\u001b[1;33m(\u001b[0m\u001b[0mrules\u001b[0m\u001b[1;33m,\u001b[0m \u001b[0mruleIndex\u001b[0m\u001b[1;33m)\u001b[0m\u001b[1;33m\u001b[0m\u001b[1;33m\u001b[0m\u001b[0m\n\u001b[0;32m     19\u001b[0m     \u001b[1;32mreturn\u001b[0m \u001b[0mrules\u001b[0m\u001b[1;33m\u001b[0m\u001b[1;33m\u001b[0m\u001b[0m\n",
      "\u001b[1;31mIndexError\u001b[0m: invalid index to scalar variable."
     ]
    }
   ],
   "source": [
    "sortedUpgrade = sortUpgrade(relevantRules, testUpgrade)"
   ]
  },
  {
   "cell_type": "code",
   "execution_count": 29,
   "metadata": {},
   "outputs": [
    {
     "name": "stdout",
     "output_type": "stream",
     "text": [
      "91\n",
      "[98. 87.]\n",
      "13\n",
      "91\n",
      "[96. 87.]\n",
      "13\n",
      "91\n",
      "[96. 97.]\n",
      "13\n",
      "91\n",
      "[96. 58.]\n",
      "13\n",
      "91\n",
      "[62. 92.]\n",
      "13\n",
      "91\n",
      "[62. 19.]\n",
      "13\n",
      "91\n",
      "[54. 97.]\n",
      "13\n",
      "91\n",
      "[13. 42.]\n",
      "13\n",
      "181\n",
      "92.0\n",
      "13\n"
     ]
    },
    {
     "ename": "IndexError",
     "evalue": "invalid index to scalar variable.",
     "output_type": "error",
     "traceback": [
      "\u001b[1;31m---------------------------------------------------------------------------\u001b[0m",
      "\u001b[1;31mIndexError\u001b[0m                                Traceback (most recent call last)",
      "\u001b[1;32m<ipython-input-29-6e772c8b35f2>\u001b[0m in \u001b[0;36m<module>\u001b[1;34m\u001b[0m\n\u001b[0;32m      5\u001b[0m     \u001b[0mbrokenRules\u001b[0m \u001b[1;33m=\u001b[0m \u001b[0mfindBrokenRules\u001b[0m\u001b[1;33m(\u001b[0m\u001b[0mrelevantRules\u001b[0m\u001b[1;33m,\u001b[0m \u001b[0mupgrade\u001b[0m\u001b[1;33m)\u001b[0m\u001b[1;33m\u001b[0m\u001b[1;33m\u001b[0m\u001b[0m\n\u001b[0;32m      6\u001b[0m     \u001b[1;32mif\u001b[0m \u001b[0mlen\u001b[0m\u001b[1;33m(\u001b[0m\u001b[0mbrokenRules\u001b[0m\u001b[1;33m)\u001b[0m \u001b[1;33m>\u001b[0m \u001b[1;36m0\u001b[0m\u001b[1;33m:\u001b[0m\u001b[1;33m\u001b[0m\u001b[1;33m\u001b[0m\u001b[0m\n\u001b[1;32m----> 7\u001b[1;33m         \u001b[0mfixedUpgrade\u001b[0m \u001b[1;33m=\u001b[0m \u001b[0msortUpgrade\u001b[0m\u001b[1;33m(\u001b[0m\u001b[0mrelevantRules\u001b[0m\u001b[1;33m,\u001b[0m \u001b[0mupgrade\u001b[0m\u001b[1;33m)\u001b[0m\u001b[1;33m\u001b[0m\u001b[1;33m\u001b[0m\u001b[0m\n\u001b[0m\u001b[0;32m      8\u001b[0m         \u001b[0mcount\u001b[0m \u001b[1;33m+=\u001b[0m \u001b[0mfixedUpgrade\u001b[0m\u001b[1;33m[\u001b[0m\u001b[0mint\u001b[0m\u001b[1;33m(\u001b[0m\u001b[0mnp\u001b[0m\u001b[1;33m.\u001b[0m\u001b[0mfloor\u001b[0m\u001b[1;33m(\u001b[0m\u001b[0mlen\u001b[0m\u001b[1;33m(\u001b[0m\u001b[0mupgrade\u001b[0m\u001b[1;33m)\u001b[0m\u001b[1;33m/\u001b[0m\u001b[1;36m2\u001b[0m\u001b[1;33m)\u001b[0m\u001b[1;33m)\u001b[0m\u001b[1;33m]\u001b[0m\u001b[1;33m\u001b[0m\u001b[1;33m\u001b[0m\u001b[0m\n\u001b[0;32m      9\u001b[0m \u001b[1;33m\u001b[0m\u001b[0m\n",
      "\u001b[1;32m<ipython-input-26-58dfdde9ede7>\u001b[0m in \u001b[0;36msortUpgrade\u001b[1;34m(rules, upgrade)\u001b[0m\n\u001b[0;32m     10\u001b[0m         \u001b[0mupgrade\u001b[0m\u001b[1;33m.\u001b[0m\u001b[0mremove\u001b[0m\u001b[1;33m(\u001b[0m\u001b[0melement\u001b[0m\u001b[1;33m)\u001b[0m\u001b[1;33m\u001b[0m\u001b[1;33m\u001b[0m\u001b[0m\n\u001b[0;32m     11\u001b[0m         \u001b[1;31m#print(upgrade)\u001b[0m\u001b[1;33m\u001b[0m\u001b[1;33m\u001b[0m\u001b[1;33m\u001b[0m\u001b[0m\n\u001b[1;32m---> 12\u001b[1;33m         \u001b[0mrules\u001b[0m \u001b[1;33m=\u001b[0m \u001b[0mremoveRulesStartingWith\u001b[0m\u001b[1;33m(\u001b[0m\u001b[0mrules\u001b[0m\u001b[1;33m,\u001b[0m \u001b[0melement\u001b[0m\u001b[1;33m)\u001b[0m\u001b[1;33m\u001b[0m\u001b[1;33m\u001b[0m\u001b[0m\n\u001b[0m\u001b[0;32m     13\u001b[0m     \u001b[1;32mreturn\u001b[0m \u001b[0msortedUpgrade\u001b[0m\u001b[1;33m\u001b[0m\u001b[1;33m\u001b[0m\u001b[0m\n\u001b[0;32m     14\u001b[0m \u001b[1;33m\u001b[0m\u001b[0m\n",
      "\u001b[1;32m<ipython-input-26-58dfdde9ede7>\u001b[0m in \u001b[0;36mremoveRulesStartingWith\u001b[1;34m(rules, element)\u001b[0m\n\u001b[0;32m     18\u001b[0m         \u001b[0mprint\u001b[0m\u001b[1;33m(\u001b[0m\u001b[0mrules\u001b[0m\u001b[1;33m[\u001b[0m\u001b[0mruleIndex\u001b[0m\u001b[1;33m]\u001b[0m\u001b[1;33m)\u001b[0m\u001b[1;33m\u001b[0m\u001b[1;33m\u001b[0m\u001b[0m\n\u001b[0;32m     19\u001b[0m         \u001b[0mprint\u001b[0m\u001b[1;33m(\u001b[0m\u001b[0melement\u001b[0m\u001b[1;33m)\u001b[0m\u001b[1;33m\u001b[0m\u001b[1;33m\u001b[0m\u001b[0m\n\u001b[1;32m---> 20\u001b[1;33m         \u001b[1;32mif\u001b[0m \u001b[0mrules\u001b[0m\u001b[1;33m[\u001b[0m\u001b[0mruleIndex\u001b[0m\u001b[1;33m]\u001b[0m\u001b[1;33m[\u001b[0m\u001b[1;36m0\u001b[0m\u001b[1;33m]\u001b[0m \u001b[1;33m==\u001b[0m \u001b[0melement\u001b[0m\u001b[1;33m:\u001b[0m\u001b[1;33m\u001b[0m\u001b[1;33m\u001b[0m\u001b[0m\n\u001b[0m\u001b[0;32m     21\u001b[0m             \u001b[0mrules\u001b[0m \u001b[1;33m=\u001b[0m \u001b[0mnp\u001b[0m\u001b[1;33m.\u001b[0m\u001b[0mdelete\u001b[0m\u001b[1;33m(\u001b[0m\u001b[0mrules\u001b[0m\u001b[1;33m,\u001b[0m \u001b[0mruleIndex\u001b[0m\u001b[1;33m)\u001b[0m\u001b[1;33m\u001b[0m\u001b[1;33m\u001b[0m\u001b[0m\n\u001b[0;32m     22\u001b[0m     \u001b[1;32mreturn\u001b[0m \u001b[0mrules\u001b[0m\u001b[1;33m\u001b[0m\u001b[1;33m\u001b[0m\u001b[0m\n",
      "\u001b[1;31mIndexError\u001b[0m: invalid index to scalar variable."
     ]
    }
   ],
   "source": [
    "count = 0\n",
    "# Select relevant rules per upgrade\n",
    "for upgrade in upgradesList:\n",
    "    relevantRules = findRelevantRules(rules, upgrade)\n",
    "    brokenRules = findBrokenRules(relevantRules, upgrade)\n",
    "    if len(brokenRules) > 0:        \n",
    "        fixedUpgrade = sortUpgrade(relevantRules, upgrade)\n",
    "        count += fixedUpgrade[int(np.floor(len(upgrade)/2))]\n",
    "\n",
    "print(count)"
   ]
  },
  {
   "cell_type": "code",
   "execution_count": 7,
   "metadata": {},
   "outputs": [
    {
     "name": "stdout",
     "output_type": "stream",
     "text": [
      "[13.0, 92.0, 19.0, 64.0, 74.0, 58.0, 96.0, 73.0, 87.0, 53.0, 14.0]\n"
     ]
    }
   ],
   "source": [
    "fixedUpgrade = fixRules(brokenRules, testUpgrade)\n",
    "print(fixedUpgrade)"
   ]
  },
  {
   "cell_type": "code",
   "execution_count": 8,
   "metadata": {},
   "outputs": [
    {
     "name": "stdout",
     "output_type": "stream",
     "text": [
      "34\n",
      "[array([96., 74.]), array([96., 58.]), array([58., 92.]), array([58., 19.]), array([58., 64.]), array([73., 74.]), array([73., 19.]), array([87., 19.]), array([87., 58.]), array([87., 74.]), array([87., 92.]), array([53., 19.]), array([53., 92.]), array([53., 64.]), array([53., 74.]), array([14., 19.]), array([14., 96.]), array([14., 58.]), array([14., 87.]), array([14., 64.]), array([14., 53.]), array([14., 13.]), array([14., 73.]), array([14., 92.]), array([14., 74.]), array([19., 92.]), array([96., 19.]), array([96., 64.]), array([96., 92.]), array([58., 74.]), array([73., 92.]), array([73., 58.]), array([73., 64.]), array([87., 64.])]\n"
     ]
    }
   ],
   "source": [
    "newBrokenRules = findBrokenRules(relevantRules, fixedUpgrade)\n",
    "print(len(newBrokenRules))\n",
    "print(newBrokenRules)\n"
   ]
  },
  {
   "cell_type": "code",
   "execution_count": 10,
   "metadata": {},
   "outputs": [
    {
     "name": "stdout",
     "output_type": "stream",
     "text": [
      "[[57. 24.]\n",
      " [64. 37.]\n",
      " [64. 45.]\n",
      " ...\n",
      " [81. 54.]\n",
      " [81. 19.]\n",
      " [87. 64.]]\n"
     ]
    }
   ],
   "source": [
    "print(rules)"
   ]
  },
  {
   "cell_type": "code",
   "execution_count": 11,
   "metadata": {},
   "outputs": [
    {
     "ename": "AttributeError",
     "evalue": "'numpy.ndarray' object has no attribute 'remove'",
     "output_type": "error",
     "traceback": [
      "\u001b[1;31m---------------------------------------------------------------------------\u001b[0m",
      "\u001b[1;31mAttributeError\u001b[0m                            Traceback (most recent call last)",
      "\u001b[1;32m<ipython-input-11-83da8b4aa628>\u001b[0m in \u001b[0;36m<module>\u001b[1;34m\u001b[0m\n\u001b[1;32m----> 1\u001b[1;33m \u001b[0mprint\u001b[0m\u001b[1;33m(\u001b[0m\u001b[0mrules\u001b[0m\u001b[1;33m.\u001b[0m\u001b[0mremove\u001b[0m\u001b[1;33m(\u001b[0m\u001b[0mrules\u001b[0m\u001b[1;33m[\u001b[0m\u001b[1;36m0\u001b[0m\u001b[1;33m]\u001b[0m\u001b[1;33m)\u001b[0m\u001b[1;33m)\u001b[0m\u001b[1;33m\u001b[0m\u001b[1;33m\u001b[0m\u001b[0m\n\u001b[0m",
      "\u001b[1;31mAttributeError\u001b[0m: 'numpy.ndarray' object has no attribute 'remove'"
     ]
    }
   ],
   "source": [
    "print(rules.remove(rules[0]))"
   ]
  },
  {
   "cell_type": "code",
   "execution_count": null,
   "metadata": {},
   "outputs": [],
   "source": []
  }
 ],
 "metadata": {
  "kernelspec": {
   "display_name": "Python 3",
   "language": "python",
   "name": "python3"
  },
  "language_info": {
   "codemirror_mode": {
    "name": "ipython",
    "version": 3
   },
   "file_extension": ".py",
   "mimetype": "text/x-python",
   "name": "python",
   "nbconvert_exporter": "python",
   "pygments_lexer": "ipython3",
   "version": "3.8.6"
  }
 },
 "nbformat": 4,
 "nbformat_minor": 2
}
