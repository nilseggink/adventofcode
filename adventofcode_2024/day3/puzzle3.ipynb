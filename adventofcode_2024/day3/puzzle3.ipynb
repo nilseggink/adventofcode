{
 "cells": [
  {
   "cell_type": "code",
   "execution_count": 22,
   "metadata": {},
   "outputs": [],
   "source": [
    "import re\n",
    "def evaluateMul(line):\n",
    "    validMuls = re.findall(\"mul\\([0-9]+,[0-9]+\\)\", line)\n",
    "    total = 0\n",
    "    for mulIndex in range(0,len(validMuls)):\n",
    "        numbers = re.findall(\"[0-9]+\", validMuls[mulIndex])\n",
    "        total += float(numbers[0]) * float(numbers[1])\n",
    "    return total"
   ]
  },
  {
   "cell_type": "code",
   "execution_count": 27,
   "metadata": {},
   "outputs": [
    {
     "name": "stdout",
     "output_type": "stream",
     "text": [
      "93729253.0\n"
     ]
    }
   ],
   "source": [
    "filename = \"input3.txt\"\n",
    "total = 0\n",
    "with open(filename) as file:\n",
    "    line = file.read()\n",
    "    # Break it up into pieces surrounding do's and don't's.\n",
    "    dontParts = line.split(\"don't()\")\n",
    "    total += evaluateMul(dontParts[0])\n",
    "\n",
    "    for partIndex in range(0, len(dontParts)):\n",
    "\n",
    "        doParts = dontParts[partIndex].split(\"do()\")\n",
    "\n",
    "        for doPartIndex in range(1, len(doParts)):\n",
    "\n",
    "            total += evaluateMul(doParts[doPartIndex])      \n",
    "print(total)"
   ]
  },
  {
   "cell_type": "code",
   "execution_count": null,
   "metadata": {},
   "outputs": [],
   "source": []
  }
 ],
 "metadata": {
  "kernelspec": {
   "display_name": "Python 3",
   "language": "python",
   "name": "python3"
  },
  "language_info": {
   "codemirror_mode": {
    "name": "ipython",
    "version": 3
   },
   "file_extension": ".py",
   "mimetype": "text/x-python",
   "name": "python",
   "nbconvert_exporter": "python",
   "pygments_lexer": "ipython3",
   "version": "3.12.2"
  },
  "orig_nbformat": 4,
  "vscode": {
   "interpreter": {
    "hash": "44f58c81890df4fc206b4ee056fe2050138976aed51ffdb424186899b3f44756"
   }
  }
 },
 "nbformat": 4,
 "nbformat_minor": 2
}
