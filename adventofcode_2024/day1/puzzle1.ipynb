{
 "cells": [
  {
   "cell_type": "code",
   "execution_count": 2,
   "id": "047f4315",
   "metadata": {},
   "outputs": [],
   "source": [
    "# Read input file\n",
    "import numpy as np\n"
   ]
  },
  {
   "cell_type": "code",
   "execution_count": 13,
   "id": "1facc1e8",
   "metadata": {},
   "outputs": [
    {
     "name": "stdout",
     "output_type": "stream",
     "text": [
      "[[12823. 12823.]\n",
      " [74540. 88907.]\n",
      " [37687. 50218.]\n",
      " ...\n",
      " [60833. 44098.]\n",
      " [48061. 21816.]\n",
      " [31899. 33989.]]\n"
     ]
    }
   ],
   "source": [
    "input = np.loadtxt(r\"C:\\Users\\nilse\\OneDrive\\CodingProjects\\adventofcode_2024\\input_puzzle1.txt\")\n",
    "print(input)"
   ]
  },
  {
   "cell_type": "code",
   "execution_count": 14,
   "id": "ca9cbc79",
   "metadata": {},
   "outputs": [
    {
     "name": "stdout",
     "output_type": "stream",
     "text": [
      "[[10071. 10006.]\n",
      " [10392. 10137.]\n",
      " [10410. 10243.]\n",
      " ...\n",
      " [99728. 99626.]\n",
      " [99823. 99647.]\n",
      " [99835. 99926.]]\n"
     ]
    }
   ],
   "source": [
    "input.sort(0)\n",
    "print(input)\n"
   ]
  },
  {
   "cell_type": "code",
   "execution_count": null,
   "id": "9fa95792",
   "metadata": {},
   "outputs": [],
   "source": [
    "totalDistance = 0\n",
    "for locNum in range(len(input)):\n",
    "    currentDistance = abs((input[locNum, 0] - input[locNum, 1]))\n",
    "    totalDistance += currentDistance\n",
    "\n",
    "print(totalDistance)\n",
    "    "
   ]
  },
  {
   "cell_type": "code",
   "execution_count": 15,
   "id": "b930f561",
   "metadata": {},
   "outputs": [
    {
     "name": "stdout",
     "output_type": "stream",
     "text": [
      "18805872.0\n"
     ]
    }
   ],
   "source": [
    "# Calculate similarity score. For each element in the first column, find how often it appears in the right column.\n",
    "\n",
    "similarityScore = 0\n",
    "firstColumn = input[:,0]\n",
    "secondColumn = input[:,1]\n",
    "for locNum in range(len(input)):\n",
    "    matchingIndices = np.where(secondColumn == firstColumn[locNum])\n",
    "    similarityScore += firstColumn[locNum] * len(matchingIndices[0])\n",
    "\n",
    "\n",
    "\n",
    "print(similarityScore)"
   ]
  },
  {
   "cell_type": "code",
   "execution_count": null,
   "id": "8a292323",
   "metadata": {},
   "outputs": [],
   "source": []
  }
 ],
 "metadata": {
  "kernelspec": {
   "display_name": "Python 3",
   "language": "python",
   "name": "python3"
  },
  "language_info": {
   "codemirror_mode": {
    "name": "ipython",
    "version": 3
   },
   "file_extension": ".py",
   "mimetype": "text/x-python",
   "name": "python",
   "nbconvert_exporter": "python",
   "pygments_lexer": "ipython3",
   "version": "3.12.2"
  }
 },
 "nbformat": 4,
 "nbformat_minor": 5
}
