{
 "cells": [
  {
   "cell_type": "code",
   "execution_count": 4,
   "metadata": {},
   "outputs": [
    {
     "name": "stdout",
     "output_type": "stream",
     "text": [
      "140\n",
      "140\n"
     ]
    }
   ],
   "source": [
    "# Part 2: find X-MAS\n",
    "with open(r\"input4.txt\", 'r') as file:\n",
    "    lines = [line for line in file.read().split()]\n",
    "\n",
    "numberOfRows = len(lines)\n",
    "numberOfColumns = len(lines[0])\n",
    "\n",
    "print(numberOfRows)\n",
    "print(numberOfColumns)"
   ]
  },
  {
   "cell_type": "code",
   "execution_count": 5,
   "metadata": {},
   "outputs": [],
   "source": [
    "def checkXmas(lines, x, y):\n",
    "    if ((lines[x-1][y-1] == 'M' and lines[x+1][y+1] == 'S' or lines[x-1][y-1] == 'S' and lines[x+1][y+1] == 'M') and \n",
    "        (lines[x+1][y-1] == 'M' and lines[x-1][y+1] == 'S' or lines[x+1][y-1] == 'S' and lines[x-1][y+1] == 'M')):\n",
    "        return True"
   ]
  },
  {
   "cell_type": "code",
   "execution_count": 7,
   "metadata": {},
   "outputs": [
    {
     "name": "stdout",
     "output_type": "stream",
     "text": [
      "1877\n"
     ]
    }
   ],
   "source": [
    "count = 0 \n",
    "for rowIndex in range(1, numberOfRows - 1):\n",
    "    for columnIndex in range(1, numberOfColumns - 1):\n",
    "        if lines[rowIndex][columnIndex] == 'A':\n",
    "            if checkXmas(lines, rowIndex, columnIndex):\n",
    "                count += 1\n",
    "\n",
    "\n",
    "print(count)"
   ]
  },
  {
   "cell_type": "code",
   "execution_count": null,
   "metadata": {},
   "outputs": [],
   "source": []
  }
 ],
 "metadata": {
  "kernelspec": {
   "display_name": "Python 3",
   "language": "python",
   "name": "python3"
  },
  "language_info": {
   "codemirror_mode": {
    "name": "ipython",
    "version": 3
   },
   "file_extension": ".py",
   "mimetype": "text/x-python",
   "name": "python",
   "nbconvert_exporter": "python",
   "pygments_lexer": "ipython3",
   "version": "3.12.2"
  }
 },
 "nbformat": 4,
 "nbformat_minor": 2
}
