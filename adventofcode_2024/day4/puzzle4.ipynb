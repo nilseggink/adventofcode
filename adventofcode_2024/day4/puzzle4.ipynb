{
 "cells": [
  {
   "cell_type": "code",
   "execution_count": 1,
   "metadata": {},
   "outputs": [],
   "source": [
    "import numpy as np"
   ]
  },
  {
   "cell_type": "code",
   "execution_count": 1,
   "metadata": {},
   "outputs": [],
   "source": [
    "# Functie die checkt of ergens XMAS staat\n",
    "import re\n",
    "def countXmas(line):\n",
    "    occurrencesForward = len(re.findall(\"XMAS\", line))\n",
    "    occurrencesBackward = len(re.findall(\"SAMX\", line))\n",
    "    return (occurrencesForward + occurrencesBackward)\n"
   ]
  },
  {
   "cell_type": "code",
   "execution_count": null,
   "metadata": {},
   "outputs": [
    {
     "name": "stdout",
     "output_type": "stream",
     "text": [
      "2462\n"
     ]
    }
   ],
   "source": [
    "with open(r\"input4.txt\", 'r') as file:\n",
    "    lines = [line for line in file.read().split()]\n",
    "\n",
    "# Do the horizontals forward & backward\n",
    "rowCount = 0\n",
    "for line in lines:\n",
    "    rowCount += countXmas(line)\n",
    "\n",
    "# Do the verticals\n",
    "columnCount = 0\n",
    "columnList = []\n",
    "for stringIndex in range(0,len(lines[0])):\n",
    "    columnList.append(''.join([string[stringIndex] for string in lines]))\n",
    "\n",
    "for column in columnList:\n",
    "    columnCount += countXmas(column)\n",
    "    \n",
    "# Do the diagonals\n",
    "diagonalCount = 0\n",
    "\n",
    "paddedLines = lines[:]\n",
    "for lineIndex in range(0, len(lines)):\n",
    "    paddedLines[lineIndex] = (len(lines) - lineIndex - 1)*' ' + lines[lineIndex] + lineIndex*' '\n",
    "\n",
    "leftDiagonalList = ['']*(len(lines) + len(lines[0]) - 1)\n",
    "for stringIndex in range(0,len(paddedLines[0])):\n",
    "    leftDiagonalList.append(''.join([string[stringIndex] for string in paddedLines]))\n",
    "\n",
    "otherPaddedLines = lines[:]\n",
    "for lineIndex in range(0, len(lines)):\n",
    "    otherPaddedLines[lineIndex] = lineIndex*' ' + lines[lineIndex] + (len(lines) - lineIndex - 1)*' '\n",
    "\n",
    "rightDiagonalList = ['']*(len(lines) + len(lines[0]) - 1)\n",
    "for stringIndex in range(0,len(paddedLines[0])):\n",
    "    rightDiagonalList.append(''.join([string[stringIndex] for string in otherPaddedLines]))\n",
    "\n",
    "for diagonal in leftDiagonalList:\n",
    "    diagonalCount += countXmas(diagonal)\n",
    "\n",
    "for diagonal in rightDiagonalList:\n",
    "    diagonalCount += countXmas(diagonal)\n",
    "# Sum\n",
    "print(rowCount + columnCount + diagonalCount)"
   ]
  },
  {
   "cell_type": "code",
   "execution_count": 5,
   "metadata": {},
   "outputs": [
    {
     "name": "stdout",
     "output_type": "stream",
     "text": [
      "['', '', '', '', '', '', '', '', '', '', '', '', '', '', '', '', '', '', '', '', '', '', '', '', '', '', '', '', '', '', '', '', '', '', '', '', '', '', '', '', '', '', '', '', '', '', '', '', '', '', '', '', '', '', '', '', '', '', '', '', '', '', '', '', '', '', '', '', '', '', '', '', '', '', '', '', '', '', '', '', '', '', '', '', '', '', '', '', '', '', '', '', '', '', '', '', '', '', '', '', '', '', '', '', '', '', '', '', '', '', '', '', '', '', '', '', '', '', '', '', '', '', '', '', '', '', '', '', '', '', '', '', '', '', '', '', '', '', '', '', '', '', '', '', '', '', '', '', '', '', '', '', '', '', '', '', '', '', '', '', '', '', '', '', '', '', '', '', '', '', '', '', '', '', '', '', '', '', '', '', '', '', '', '', '', '', '', '', '', '', '', '', '', '', '', '', '', '', '', '', '', '', '', '', '', '', '', '', '', '', '', '', '', '', '', '', '', '', '', '', '', '', '', '', '', '', '', '', '', '', '', '', '', '', '', '', '', '', '', '', '', '', '', '', '', '', '', '', '', '', '', '', '', '', '', '', '', '', '', '', '', '', '', '', '', '', '', '', '', '', '', '', '', '', '', '', '', '', '']\n"
     ]
    }
   ],
   "source": [
    "leftDiagonalList = ['']*(len(lines) + len(lines[0]) - 1)\n",
    "print(leftDiagonalList)"
   ]
  },
  {
   "cell_type": "code",
   "execution_count": 6,
   "metadata": {},
   "outputs": [
    {
     "data": {
      "text/plain": [
       "279"
      ]
     },
     "execution_count": 6,
     "metadata": {},
     "output_type": "execute_result"
    }
   ],
   "source": [
    "len(leftDiagonalList)"
   ]
  },
  {
   "cell_type": "code",
   "execution_count": null,
   "metadata": {},
   "outputs": [],
   "source": []
  }
 ],
 "metadata": {
  "kernelspec": {
   "display_name": "Python 3",
   "language": "python",
   "name": "python3"
  },
  "language_info": {
   "codemirror_mode": {
    "name": "ipython",
    "version": 3
   },
   "file_extension": ".py",
   "mimetype": "text/x-python",
   "name": "python",
   "nbconvert_exporter": "python",
   "pygments_lexer": "ipython3",
   "version": "3.12.2"
  }
 },
 "nbformat": 4,
 "nbformat_minor": 2
}
